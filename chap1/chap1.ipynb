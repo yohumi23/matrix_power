{
 "cells": [
  {
   "cell_type": "markdown",
   "metadata": {},
   "source": [
    "# 1. vector and more 不止向量"
   ]
  },
  {
   "cell_type": "markdown",
   "metadata": {},
   "source": [
    "- 不止向量\n",
    "    - 有数据的地方，必有矩阵\n",
    "    - 有矩阵的地方，更有向量\n",
    "    - 有向量的地方，就有几何\n",
    "    - 有几何的地方，皆有空间\n",
    "    - 有数据的地方，定有统计"
   ]
  },
  {
   "cell_type": "markdown",
   "metadata": {},
   "source": [
    "## 有数据的地方，必有矩阵"
   ]
  },
  {
   "cell_type": "markdown",
   "metadata": {},
   "source": [
    "- 鸢尾花数据集\n",
    "  数据科学、机器学习算法和模型都是“数据驱动”。没有数据，任何的算法都玩不转，数据是\n",
    "各种算法的绝对核心。优质数据本身就极具价值，甚至不需要借助任何模型；反之，垃圾进，垃\n",
    "圾出 (Garbage in, garbage out, GIGO)。\n",
    "- 本书采用频率最高的数据集是 iris(鸢尾花) 数据集。 full_name=安德森鸢尾数据集(Anderson's Iris data set)。鸢尾花四个特征被用作样本的定量分析，它们分别是花萼长度 (sepal length)、花萼宽度 (sepal width)、花瓣长度 (petal length) 和花瓣宽度 (petal width)。\n",
    "> attention: \n",
    "  注意，本书用大写、粗体、斜体字母代表矩阵，比如 X、A、Σ、Λ。特别地，本书用 X 代表样本数据矩阵，用 Σ 代表方差协方差矩阵 (variance covariance matrix)。本书用小写、粗体、斜体字母代表向量，比如 x、x1、x(1)、v。"
   ]
  },
  {
   "cell_type": "markdown",
   "metadata": {},
   "source": []
  }
 ],
 "metadata": {
  "kernelspec": {
   "display_name": "myenv",
   "language": "python",
   "name": "python3"
  },
  "language_info": {
   "name": "python",
   "version": "3.8.19"
  }
 },
 "nbformat": 4,
 "nbformat_minor": 2
}
